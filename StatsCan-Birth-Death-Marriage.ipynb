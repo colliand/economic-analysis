{
 "cells": [
  {
   "cell_type": "code",
   "execution_count": 1,
   "metadata": {
    "hidden": false
   },
   "outputs": [
    {
     "data": {
      "text/html": [
       "<script>\n",
       "code_show=true; \n",
       "function code_toggle() {\n",
       " if (code_show){\n",
       " $('div.input').hide();\n",
       " } else {\n",
       " $('div.input').show();\n",
       " }\n",
       " code_show = !code_show\n",
       "} \n",
       "$( document ).ready(code_toggle);\n",
       "</script>\n",
       "The raw code for this IPython notebook is by default hidden for easier reading.\n",
       "To toggle on/off the raw code, click <a href=\"javascript:code_toggle()\">here</a>."
      ],
      "text/plain": [
       "<IPython.core.display.HTML object>"
      ]
     },
     "execution_count": 1,
     "metadata": {},
     "output_type": "execute_result"
    }
   ],
   "source": [
    "from IPython.display import HTML\n",
    "\n",
    "HTML('''<script>\n",
    "code_show=true; \n",
    "function code_toggle() {\n",
    " if (code_show){\n",
    " $('div.input').hide();\n",
    " } else {\n",
    " $('div.input').show();\n",
    " }\n",
    " code_show = !code_show\n",
    "} \n",
    "$( document ).ready(code_toggle);\n",
    "</script>\n",
    "The raw code for this IPython notebook is by default hidden for easier reading.\n",
    "To toggle on/off the raw code, click <a href=\"javascript:code_toggle()\">here</a>.''')\n"
   ]
  },
  {
   "cell_type": "markdown",
   "metadata": {
    "hidden": false
   },
   "source": [
    "![alt text](https://github.com/callysto/callysto-sample-notebooks/blob/master/notebooks/images/Callysto_Notebook-Banner_Top_06.06.18.jpg?raw=true)  \n"
   ]
  },
  {
   "cell_type": "markdown",
   "metadata": {
    "hidden": false
   },
   "source": [
    "<h1 align='center'>Stats Can Notebook Template</h1>\n",
    "\n",
    "<h4 align='center'>Laura Gutierrez Funderburk $\\mid$ Stats Can Notebook</h4>\n",
    "\n",
    "<h2 align='center'>Abstract</h2>\n",
    "\n",
    "In this notebook we download a full dataset and plot multiple one-dimensional subsets of the data. \n",
    "\n",
    "\n",
    "Data set is obtained from https://www150.statcan.gc.ca/t1/tbl1/en/tv.action?pid=1710005901 via ProductID 17-10-0059-01. \n",
    "\n",
    "This notebook uses our quick data set exploration application, and plots pie charts specific to the data set. \n"
   ]
  },
  {
   "cell_type": "code",
   "execution_count": 2,
   "metadata": {
    "hidden": false
   },
   "outputs": [],
   "source": [
    "%run -i ./StatsCan/helpers.py\n",
    "%run -i ./StatsCan/scwds.py\n",
    "%run -i ./StatsCan/sc.py"
   ]
  },
  {
   "cell_type": "code",
   "execution_count": 3,
   "metadata": {
    "hidden": false
   },
   "outputs": [],
   "source": [
    "from ipywidgets import widgets, VBox, HBox, Button\n",
    "from ipywidgets import Button, Layout, widgets\n",
    "from IPython.display import display, Javascript, Markdown, HTML\n",
    "import datetime as dt\n",
    "import qgrid as q\n",
    "import pandas as pd\n",
    "import json\n",
    "import datetime\n",
    "import qgrid \n",
    "from tqdm import tnrange, tqdm_notebook\n",
    "from time import sleep\n",
    "\n",
    "grid_features = { 'fullWidthRows': True,\n",
    "                  'syncColumnCellResize': True,\n",
    "                  'forceFitColumns': True,\n",
    "                  'enableColumnReorder': True,\n",
    "                  'enableTextSelectionOnCells': True,\n",
    "                  'editable': False,\n",
    "                  'filterable': True,\n",
    "                  'sortable': False,\n",
    "                  'highlightSelectedRow': True}\n",
    "\n",
    "def rerun_cell( b ):\n",
    "    \n",
    "    display(Javascript('IPython.notebook.execute_cell_range(IPython.notebook.get_selected_index()+1,IPython.notebook.get_selected_index()+3)'))    \n",
    "\n",
    "    \n",
    "def run_4cell( b ):\n",
    "    \n",
    "    display(Javascript('IPython.notebook.execute_cell_range(IPython.notebook.get_selected_index()+1,IPython.notebook.get_selected_index()+5)'))    \n",
    "\n",
    "style = {'description_width': 'initial'}\n",
    "\n"
   ]
  },
  {
   "cell_type": "markdown",
   "metadata": {
    "hidden": false
   },
   "source": [
    "<h2 align='center'>Downloading Stats Can Data</h2>\n",
    "\n",
    "Press the button below to download the dataset https://www150.statcan.gc.ca/t1/tbl1/en/tv.action?pid=1710005901 directly through StatsCan's API. "
   ]
  },
  {
   "cell_type": "code",
   "execution_count": 4,
   "metadata": {
    "hidden": false
   },
   "outputs": [
    {
     "data": {
      "application/vnd.jupyter.widget-view+json": {
       "model_id": "f3ad418f72ff433ca25440dbb1efa361",
       "version_major": 2,
       "version_minor": 0
      },
      "text/plain": [
       "Button(button_style='success', description='Download Dataset', layout=Layout(height='30px', width='15%'), styl…"
      ]
     },
     "metadata": {},
     "output_type": "display_data"
    }
   ],
   "source": [
    "# Fancy user interface to run cells below\n",
    "DS_button = widgets.Button(\n",
    "    button_style='success',\n",
    "    description=\"Download Dataset\", \n",
    "    layout=Layout(width='15%', height='30px'),\n",
    "    style=style\n",
    ")    \n",
    "DS_button.on_click( run_4cell )\n",
    "\n",
    "display(DS_button)"
   ]
  },
  {
   "cell_type": "code",
   "execution_count": 5,
   "metadata": {
    "hidden": false,
    "scrolled": true
   },
   "outputs": [
    {
     "data": {
      "application/vnd.jupyter.widget-view+json": {
       "model_id": "316907214afd4568b5ff1c81bfc2c63b",
       "version_major": 2,
       "version_minor": 0
      },
      "text/plain": [
       "HBox(children=(IntProgress(value=0, description='Downloading Dataset', max=1, style=ProgressStyle(description_…"
      ]
     },
     "metadata": {},
     "output_type": "display_data"
    },
    {
     "name": "stdout",
     "output_type": "stream",
     "text": [
      "\n",
      "PARSING DATA AS PANDAS DATAFRAME\n"
     ]
    },
    {
     "data": {
      "text/html": [
       "<div>\n",
       "<style scoped>\n",
       "    .dataframe tbody tr th:only-of-type {\n",
       "        vertical-align: middle;\n",
       "    }\n",
       "\n",
       "    .dataframe tbody tr th {\n",
       "        vertical-align: top;\n",
       "    }\n",
       "\n",
       "    .dataframe thead th {\n",
       "        text-align: right;\n",
       "    }\n",
       "</style>\n",
       "<table border=\"1\" class=\"dataframe\">\n",
       "  <thead>\n",
       "    <tr style=\"text-align: right;\">\n",
       "      <th></th>\n",
       "      <th>REF_DATE</th>\n",
       "      <th>GEO</th>\n",
       "      <th>Estimates</th>\n",
       "      <th>UOM</th>\n",
       "      <th>SCALAR_FACTOR</th>\n",
       "      <th>VALUE</th>\n",
       "    </tr>\n",
       "  </thead>\n",
       "  <tbody>\n",
       "    <tr>\n",
       "      <th>0</th>\n",
       "      <td>1946-01-01</td>\n",
       "      <td>Canada</td>\n",
       "      <td>Births</td>\n",
       "      <td>Number</td>\n",
       "      <td>units</td>\n",
       "      <td>73273.0</td>\n",
       "    </tr>\n",
       "    <tr>\n",
       "      <th>1</th>\n",
       "      <td>1946-01-01</td>\n",
       "      <td>Canada</td>\n",
       "      <td>Deaths</td>\n",
       "      <td>Number</td>\n",
       "      <td>units</td>\n",
       "      <td>31629.0</td>\n",
       "    </tr>\n",
       "    <tr>\n",
       "      <th>2</th>\n",
       "      <td>1946-01-01</td>\n",
       "      <td>Canada</td>\n",
       "      <td>Marriages</td>\n",
       "      <td>Number</td>\n",
       "      <td>units</td>\n",
       "      <td>19648.0</td>\n",
       "    </tr>\n",
       "    <tr>\n",
       "      <th>3</th>\n",
       "      <td>1946-01-01</td>\n",
       "      <td>Prince Edward Island</td>\n",
       "      <td>Births</td>\n",
       "      <td>Number</td>\n",
       "      <td>units</td>\n",
       "      <td>598.0</td>\n",
       "    </tr>\n",
       "    <tr>\n",
       "      <th>4</th>\n",
       "      <td>1946-01-01</td>\n",
       "      <td>Prince Edward Island</td>\n",
       "      <td>Deaths</td>\n",
       "      <td>Number</td>\n",
       "      <td>units</td>\n",
       "      <td>272.0</td>\n",
       "    </tr>\n",
       "  </tbody>\n",
       "</table>\n",
       "</div>"
      ],
      "text/plain": [
       "    REF_DATE                   GEO  Estimates     UOM SCALAR_FACTOR    VALUE\n",
       "0 1946-01-01                Canada     Births  Number        units   73273.0\n",
       "1 1946-01-01                Canada     Deaths  Number        units   31629.0\n",
       "2 1946-01-01                Canada  Marriages  Number        units   19648.0\n",
       "3 1946-01-01  Prince Edward Island     Births  Number        units     598.0\n",
       "4 1946-01-01  Prince Edward Island     Deaths  Number        units     272.0"
      ]
     },
     "execution_count": 5,
     "metadata": {},
     "output_type": "execute_result"
    }
   ],
   "source": [
    "# # Download data \n",
    "# DATA SET PRODUCT ID  for internal use only. \n",
    "productId = '17-10-0059-01'\n",
    "\n",
    "        \n",
    "download_tables(str(productId))\n",
    "\n",
    "\n",
    "df_fullDATA = zip_table_to_dataframe(productId)\n",
    "\n",
    "\n",
    "# Clean up full dataset - remove internal use columns\n",
    "cols = list(df_fullDATA.loc[:,'REF_DATE':'UOM'])+ ['SCALAR_FACTOR'] +  ['VALUE']\n",
    "df_less = df_fullDATA[cols]\n",
    "df_less2 = df_less.drop([\"DGUID\"], axis=1)\n",
    "\n",
    "# Display only first five entries\n",
    "df_less2.head()"
   ]
  },
  {
   "cell_type": "code",
   "execution_count": 6,
   "metadata": {},
   "outputs": [],
   "source": [
    "# Display subsets found within data\n",
    "\n",
    "# Get size of trimmed pandas\n",
    "iteration_nr = df_less2.shape[1]\n",
    "categories = []\n",
    "\n",
    "# Get unique values in each subcategory\n",
    "for i in range(iteration_nr-1):\n",
    "    categories.append(df_less2.iloc[:,i].unique())\n",
    "    \n",
    "    \n",
    "# Build a drop down menu for each subcategory, values displayed are those which were found in the loop above    \n",
    "all_the_widgets = []\n",
    "for i in range(len(categories)):\n",
    "    if i==0:\n",
    "        # First category contains start date\n",
    "        a_category = widgets.Dropdown(\n",
    "                value = categories[i][0],\n",
    "                options = categories[i], \n",
    "                description ='Start Date:', \n",
    "                style = style, \n",
    "                disabled=False\n",
    "            )\n",
    "        b_category = widgets.Dropdown(\n",
    "                value = categories[i][-1],\n",
    "                options = categories[i], \n",
    "                description ='End Date:', \n",
    "                style = style, \n",
    "                disabled=False\n",
    "            )\n",
    "        all_the_widgets.append(a_category)\n",
    "        all_the_widgets.append(b_category)\n",
    "    elif i==1:\n",
    "        # Base category: Store locations\n",
    "        a_category = widgets.Dropdown(\n",
    "                value = categories[i][0],\n",
    "                options = categories[i], \n",
    "                description ='Location:', \n",
    "                style = style, \n",
    "                disabled=False\n",
    "            )\n",
    "        all_the_widgets.append(a_category)\n",
    "    elif i==len(categories)-1:\n",
    "        # Base category: Scalar factor\n",
    "        a_category = widgets.Dropdown(\n",
    "                value = categories[i][0],\n",
    "                options = categories[i], \n",
    "                description ='Scalar factor:', \n",
    "                style = style, \n",
    "                disabled=False\n",
    "            )\n",
    "        all_the_widgets.append(a_category)\n",
    "        \n",
    "    elif i==len(categories)-2:\n",
    "        # Base category: Units of measure\n",
    "        a_category = widgets.Dropdown(\n",
    "                value = categories[i][0],\n",
    "                options = categories[i], \n",
    "                description ='Units of Measure :', \n",
    "                style = style, \n",
    "                disabled=False\n",
    "            )\n",
    "        all_the_widgets.append(a_category)\n",
    "    else:\n",
    "        # Non-base categories which may be added to datasets\n",
    "        a_category = widgets.Dropdown(\n",
    "                value = categories[i][0],\n",
    "                options = categories[i], \n",
    "                description ='Subcategory ' + str(i), \n",
    "                style = style, \n",
    "                disabled=False\n",
    "            )\n",
    "        all_the_widgets.append(a_category)\n"
   ]
  },
  {
   "cell_type": "markdown",
   "metadata": {
    "hidden": false
   },
   "source": [
    "## <h2 align='center'>Select Data Subsets: One-Dimensional Plotting</h2>\n",
    "\n",
    "\n",
    "Use the user menu below to select a cateory within the full subset you are interested in exploring. \n",
    "\n",
    "Choose a starting and end date to plot results. \n",
    "\n",
    "If there is data available, it will appear under the headers. \n",
    "\n",
    "Be careful to select dataframes with actual data in them!. \n",
    "\n",
    "Use the Select Dataset button to help you preview the data. "
   ]
  },
  {
   "cell_type": "code",
   "execution_count": 7,
   "metadata": {
    "hidden": false,
    "scrolled": true
   },
   "outputs": [
    {
     "data": {
      "application/vnd.jupyter.widget-view+json": {
       "model_id": "fd7de37a29ba4d2cb4ef8d960e77c48c",
       "version_major": 2,
       "version_minor": 0
      },
      "text/plain": [
       "Tab(children=(VBox(children=(HBox(children=(Dropdown(description='Start Date:', options=(numpy.datetime64('194…"
      ]
     },
     "metadata": {},
     "output_type": "display_data"
    }
   ],
   "source": [
    "# Fancy user interface to explore datasets\n",
    "# Button widget\n",
    "CD_button = widgets.Button(\n",
    "    button_style='success',\n",
    "    description=\"Preview Dataset\", \n",
    "    layout=Layout(width='15%', height='30px'),\n",
    "    style=style\n",
    ")    \n",
    "\n",
    "# Connect widget to function - run subsequent cells\n",
    "CD_button.on_click( run_4cell )\n",
    "\n",
    "# user menu using categories found above\n",
    "tab3 = VBox(children=[HBox(children=all_the_widgets[0:3]),\n",
    "                      HBox(children=all_the_widgets[3:5]),\n",
    "                      HBox(children=all_the_widgets[5:len(all_the_widgets)]),\n",
    "                      CD_button])\n",
    "tab = widgets.Tab(children=[tab3])\n",
    "tab.set_title(0, 'Load Data Subset')\n",
    "display(tab)"
   ]
  },
  {
   "cell_type": "code",
   "execution_count": 8,
   "metadata": {
    "scrolled": true
   },
   "outputs": [
    {
     "data": {
      "text/html": [
       "<div>\n",
       "<style scoped>\n",
       "    .dataframe tbody tr th:only-of-type {\n",
       "        vertical-align: middle;\n",
       "    }\n",
       "\n",
       "    .dataframe tbody tr th {\n",
       "        vertical-align: top;\n",
       "    }\n",
       "\n",
       "    .dataframe thead th {\n",
       "        text-align: right;\n",
       "    }\n",
       "</style>\n",
       "<table border=\"1\" class=\"dataframe\">\n",
       "  <thead>\n",
       "    <tr style=\"text-align: right;\">\n",
       "      <th></th>\n",
       "      <th>REF_DATE</th>\n",
       "      <th>GEO</th>\n",
       "      <th>Estimates</th>\n",
       "      <th>UOM</th>\n",
       "      <th>SCALAR_FACTOR</th>\n",
       "      <th>VALUE</th>\n",
       "    </tr>\n",
       "  </thead>\n",
       "  <tbody>\n",
       "    <tr>\n",
       "      <th>0</th>\n",
       "      <td>1946-01-01</td>\n",
       "      <td>Canada</td>\n",
       "      <td>Births</td>\n",
       "      <td>Number</td>\n",
       "      <td>units</td>\n",
       "      <td>73273.0</td>\n",
       "    </tr>\n",
       "    <tr>\n",
       "      <th>1</th>\n",
       "      <td>1946-01-01</td>\n",
       "      <td>Canada</td>\n",
       "      <td>Deaths</td>\n",
       "      <td>Number</td>\n",
       "      <td>units</td>\n",
       "      <td>31629.0</td>\n",
       "    </tr>\n",
       "    <tr>\n",
       "      <th>2</th>\n",
       "      <td>1946-01-01</td>\n",
       "      <td>Canada</td>\n",
       "      <td>Marriages</td>\n",
       "      <td>Number</td>\n",
       "      <td>units</td>\n",
       "      <td>19648.0</td>\n",
       "    </tr>\n",
       "    <tr>\n",
       "      <th>36</th>\n",
       "      <td>1946-04-01</td>\n",
       "      <td>Canada</td>\n",
       "      <td>Births</td>\n",
       "      <td>Number</td>\n",
       "      <td>units</td>\n",
       "      <td>86530.0</td>\n",
       "    </tr>\n",
       "    <tr>\n",
       "      <th>37</th>\n",
       "      <td>1946-04-01</td>\n",
       "      <td>Canada</td>\n",
       "      <td>Deaths</td>\n",
       "      <td>Number</td>\n",
       "      <td>units</td>\n",
       "      <td>28938.0</td>\n",
       "    </tr>\n",
       "  </tbody>\n",
       "</table>\n",
       "</div>"
      ],
      "text/plain": [
       "     REF_DATE     GEO  Estimates     UOM SCALAR_FACTOR    VALUE\n",
       "0  1946-01-01  Canada     Births  Number        units   73273.0\n",
       "1  1946-01-01  Canada     Deaths  Number        units   31629.0\n",
       "2  1946-01-01  Canada  Marriages  Number        units   19648.0\n",
       "36 1946-04-01  Canada     Births  Number        units   86530.0\n",
       "37 1946-04-01  Canada     Deaths  Number        units   28938.0"
      ]
     },
     "execution_count": 8,
     "metadata": {},
     "output_type": "execute_result"
    }
   ],
   "source": [
    "df_sub = df_less2[(df_less2[\"REF_DATE\"]>=all_the_widgets[0].value) & \n",
    "                  (df_less2[\"REF_DATE\"]<=all_the_widgets[1].value) &\n",
    "                  (df_less2[\"GEO\"]==all_the_widgets[2].value) &\n",
    "                  (df_less2[\"UOM\"]==all_the_widgets[-2].value) & \n",
    "                  (df_less2[\"SCALAR_FACTOR\"]==all_the_widgets[-1].value) ]\n",
    "\n",
    "\n",
    "\n",
    "df_sub.head()"
   ]
  },
  {
   "cell_type": "code",
   "execution_count": 9,
   "metadata": {},
   "outputs": [],
   "source": [
    "# TO HANDLE THE REST OF THE COLUMNS, SIMPLY SUBSTITUTE VALUES \n",
    "col_name = df_sub.columns[2]\n",
    "\n",
    "# This command will slice dataframe to get only the data we are interested in\n",
    "df_sub_final = df_sub[(df_sub[col_name]==all_the_widgets[3].value)]"
   ]
  },
  {
   "cell_type": "code",
   "execution_count": 10,
   "metadata": {},
   "outputs": [
    {
     "data": {
      "image/png": "[encoded data removed]",
      "text/plain": [
       "<Figure size 1296x1296 with 3 Axes>"
      ]
     },
     "metadata": {},
     "output_type": "display_data"
    }
   ],
   "source": [
    "\n",
    "# Time to plot!\n",
    "import matplotlib.pyplot as plt\n",
    "from pandas.plotting import register_matplotlib_converters\n",
    "register_matplotlib_converters()\n",
    "%matplotlib inline\n",
    "\n",
    "# Create \"invisible\" plot on the left - this is not necessary, but I like to center my plots in the notebook\n",
    "# feels more aesthetically pleasing\n",
    "fig1 = plt.figure(facecolor='w',figsize=(18,18))\n",
    "plt.subplot(3, 3, 1)\n",
    "plt.axis('off');\n",
    "\n",
    "# Actual plot of time series\n",
    "plt.subplot(3, 3, 2)\n",
    "# Get start and end date, plot value found under \"VALUE\" command\n",
    "plt.plot(df_sub_final[\"REF_DATE\"],df_sub_final[\"VALUE\"],'b--',label='Value')\n",
    "plt.xlabel('Year-Month', fontsize=20)\n",
    "plt.ylabel('Value',fontsize=20)\n",
    "# Title changes depending on the subcategory explored\n",
    "plt.title(str(all_the_widgets[3].value) + \", \"+  str(all_the_widgets[2].value),fontsize=20)\n",
    "plt.xticks(rotation=90)\n",
    "plt.grid(True)\n",
    "\n",
    "# Create \"invisible\" plot to the right - this is not necessary, but I like to center my plots in the notebook\n",
    "# feels more aesthetically pleasing\n",
    "plt.subplot(3, 3, 3);\n",
    "plt.axis('off');\n"
   ]
  },
  {
   "cell_type": "markdown",
   "metadata": {},
   "source": [
    "<h2 align='center'>Comparing proportion of Births and Deaths between a given year and 2018</h2>\n",
    "\n",
    "Use the menu below to pick a year and a region and compare the proportion of births and deaths on that year. The year 2018 is displayed by default. "
   ]
  },
  {
   "cell_type": "code",
   "execution_count": 11,
   "metadata": {},
   "outputs": [
    {
     "data": {
      "application/vnd.jupyter.widget-view+json": {
       "model_id": "0f1c348264084d38a9fa60c859fb2487",
       "version_major": 2,
       "version_minor": 0
      },
      "text/plain": [
       "Tab(children=(VBox(children=(HBox(children=(Dropdown(description='Select location:', options=('Canada', 'Princ…"
      ]
     },
     "metadata": {},
     "output_type": "display_data"
    }
   ],
   "source": [
    "# Pie charts!\n",
    "\n",
    "# Dropdown button to get location\n",
    "geo_dp2 = widgets.Dropdown(\n",
    "    options = categories[1], \n",
    "    description ='Select location:', \n",
    "    style = style, \n",
    "    disabled=False\n",
    ")\n",
    "\n",
    "year_q = widgets.Dropdown(\n",
    "    options = [1946 + i for i in range(73)], \n",
    "    description ='Select Year:', \n",
    "    style = style, \n",
    "    disabled=False\n",
    ")\n",
    "\n",
    "\n",
    "# Button widget to run subsequent cells\n",
    "CD_button2 = widgets.Button(\n",
    "    button_style='success',\n",
    "    description=\"Preview Chart\", \n",
    "    layout=Layout(width='15%', height='30px'),\n",
    "    style=style\n",
    ")    \n",
    "CD_button2.on_click( rerun_cell )\n",
    "\n",
    "# User interface menu\n",
    "tab3 = VBox(children=[HBox(children=[geo_dp2,year_q]),\n",
    "                      CD_button])\n",
    "tab = widgets.Tab(children=[tab3])\n",
    "tab.set_title(0, 'Preview Chart')\n",
    "display(tab)"
   ]
  },
  {
   "cell_type": "code",
   "execution_count": 12,
   "metadata": {},
   "outputs": [],
   "source": [
    "\n",
    "\n",
    "# This function takes as input a dataframe and a quarter, and returns a dataframe with data from that year only\n",
    "def get_year_pd(dataframe,year):\n",
    "    # Get REF_DATE value containing the year we are interested in\n",
    "    df_year = dataframe.loc[(dataframe[\"REF_DATE\"] == str(year))]\n",
    "    # Rename column for easier readability\n",
    "    df4 = df_year.rename(index=str, columns={\"VALUE\": year,\"GEO\":\"Geography\"})\n",
    "    # Drop REF_DATE column - not needed anymore as we have a single year now\n",
    "    df4 = df4.drop(columns=\"REF_DATE\")\n",
    "\n",
    "    return df4\n",
    "\n",
    "# Use function to get first four quarters in 1990 and 2018\n",
    "df_2010_f = get_year_pd(df_less2,str(year_q.value).split(\"-\")[0] + \"-01-01\")\n",
    "df_2010_s = get_year_pd(df_less2,str(year_q.value).split(\"-\")[0] + \"-04-01\")\n",
    "df_2010_t = get_year_pd(df_less2,str(year_q.value).split(\"-\")[0] + \"-07-01\")\n",
    "df_2010_fo = get_year_pd(df_less2,str(year_q.value).split(\"-\")[0] + \"-10-01\")\n",
    "\n",
    "df_2018_f = get_year_pd(df_less2,\"2018-01-01\")\n",
    "df_2018_s = get_year_pd(df_less2,\"2018-04-01\")\n",
    "df_2018_t = get_year_pd(df_less2,\"2018-07-01\")\n",
    "df_2018_fo = get_year_pd(df_less2,\"2018-10-01\")\n",
    "\n",
    "# Merge all quarters for 1990 into new dataframe\n",
    "new_df10 = pd.merge(pd.merge(pd.merge(df_2010_f,df_2010_s),df_2010_t),df_2010_fo)\n",
    "# Merge all quarters for 2018 into new dataframe\n",
    "new_df18 = pd.merge(pd.merge(pd.merge(df_2018_f,df_2018_s),df_2018_t),df_2018_fo)\n",
    "new_df = pd.merge(new_df10,new_df18)\n",
    "\n",
    "# We are interested in the proportion of birth and death for two given years, on a quarterly basis\n",
    "df3 = new_df.iloc[2:,:]\n",
    "df4 = df3[df3[\"Estimates\"]==\"Births\"]\n",
    "df5 = df3[df3[\"Estimates\"]==\"Deaths\"]"
   ]
  },
  {
   "cell_type": "code",
   "execution_count": 13,
   "metadata": {},
   "outputs": [
    {
     "data": {
      "text/html": [
       "<div>\n",
       "<style scoped>\n",
       "    .dataframe tbody tr th:only-of-type {\n",
       "        vertical-align: middle;\n",
       "    }\n",
       "\n",
       "    .dataframe tbody tr th {\n",
       "        vertical-align: top;\n",
       "    }\n",
       "\n",
       "    .dataframe thead th {\n",
       "        text-align: right;\n",
       "    }\n",
       "</style>\n",
       "<table border=\"1\" class=\"dataframe\">\n",
       "  <thead>\n",
       "    <tr style=\"text-align: right;\">\n",
       "      <th></th>\n",
       "      <th>Geography</th>\n",
       "      <th>Estimates</th>\n",
       "      <th>UOM</th>\n",
       "      <th>SCALAR_FACTOR</th>\n",
       "      <th>1946-01-01</th>\n",
       "      <th>1946-04-01</th>\n",
       "      <th>1946-07-01</th>\n",
       "      <th>1946-10-01</th>\n",
       "      <th>2018-01-01</th>\n",
       "      <th>2018-04-01</th>\n",
       "      <th>2018-07-01</th>\n",
       "      <th>2018-10-01</th>\n",
       "    </tr>\n",
       "  </thead>\n",
       "  <tbody>\n",
       "    <tr>\n",
       "      <th>0</th>\n",
       "      <td>Canada</td>\n",
       "      <td>Births</td>\n",
       "      <td>Number</td>\n",
       "      <td>units</td>\n",
       "      <td>73273.0</td>\n",
       "      <td>86530.0</td>\n",
       "      <td>88465.0</td>\n",
       "      <td>83203.0</td>\n",
       "      <td>92678.0</td>\n",
       "      <td>97706.0</td>\n",
       "      <td>103199.0</td>\n",
       "      <td>93223.0</td>\n",
       "    </tr>\n",
       "    <tr>\n",
       "      <th>1</th>\n",
       "      <td>Canada</td>\n",
       "      <td>Deaths</td>\n",
       "      <td>Number</td>\n",
       "      <td>units</td>\n",
       "      <td>31629.0</td>\n",
       "      <td>28938.0</td>\n",
       "      <td>26021.0</td>\n",
       "      <td>28770.0</td>\n",
       "      <td>75855.0</td>\n",
       "      <td>67997.0</td>\n",
       "      <td>66015.0</td>\n",
       "      <td>73763.0</td>\n",
       "    </tr>\n",
       "  </tbody>\n",
       "</table>\n",
       "</div>"
      ],
      "text/plain": [
       "  Geography Estimates     UOM SCALAR_FACTOR  1946-01-01  1946-04-01  \\\n",
       "0    Canada    Births  Number        units      73273.0     86530.0   \n",
       "1    Canada    Deaths  Number        units      31629.0     28938.0   \n",
       "\n",
       "   1946-07-01  1946-10-01  2018-01-01  2018-04-01  2018-07-01  2018-10-01  \n",
       "0     88465.0     83203.0     92678.0     97706.0    103199.0     93223.0  \n",
       "1     26021.0     28770.0     75855.0     67997.0     66015.0     73763.0  "
      ]
     },
     "execution_count": 13,
     "metadata": {},
     "output_type": "execute_result"
    }
   ],
   "source": [
    "# Get region of interest from dropdown menu\n",
    "whichprovince = geo_dp2.value\n",
    "\n",
    "# Get dataframe containing data for that region\n",
    "whichPo = new_df.loc[new_df['Geography']== whichprovince]\n",
    "\n",
    "# Display dataframe\n",
    "whichPo"
   ]
  },
  {
   "cell_type": "code",
   "execution_count": 14,
   "metadata": {
    "scrolled": false
   },
   "outputs": [
    {
     "data": {
      "image/png": "[encoded data removed]",
      "text/plain": [
       "<Figure size 1440x864 with 8 Axes>"
      ]
     },
     "metadata": {},
     "output_type": "display_data"
    }
   ],
   "source": [
    "# Plotting piecharts\n",
    "\n",
    "# Font size format\n",
    "plt.rcParams.update({'font.size': 15})\n",
    "\n",
    "# Handle case where data is not found\n",
    "if whichPo.size==0:\n",
    "    fig = plt.figure(figsize=(5,5))\n",
    "\n",
    "    plt.text(0.5,0.5,\"NO DATA FOUND\",fontsize=25)\n",
    "    \n",
    "    plt.axis(\"Off\")\n",
    "    \n",
    "else:\n",
    "    # Assuming data exists for both time series\n",
    "    # Assign each quarter to a variable - will use this later when plotting\n",
    "    temp1 = whichPo[str(year_q.value).split(\"-\")[0] + '-01-01']\n",
    "    temp2 = whichPo[str(year_q.value).split(\"-\")[0] + '-04-01']\n",
    "    temp3 = whichPo[str(year_q.value).split(\"-\")[0] + '-07-01']\n",
    "    temp4 = whichPo[str(year_q.value).split(\"-\")[0] + '-10-01']\n",
    "\n",
    "    temp11 = whichPo['2018-01-01']\n",
    "    temp21 = whichPo['2018-04-01']\n",
    "    temp31 = whichPo['2018-07-01']\n",
    "    temp41 = whichPo['2018-10-01']\n",
    "\n",
    "    fig = plt.figure(figsize=(20,12))\n",
    "\n",
    "    # Pie chart births and deaths 2018\n",
    "    ax1 = fig.add_subplot(241)\n",
    "    temp1.plot(kind = 'pie', subplots=True,\n",
    "               legend=True, autopct='%2.1f%%', radius=1,labels=whichPo['Estimates'],colors = ['red', 'pink'])\n",
    "    plt.title(\"Births and Deaths: \" +str(year_q.value).split(\"-\")[0] ,fontsize=25)\n",
    "    \n",
    "\n",
    "\n",
    "    # Use variables containing number of deaths and births and use .plot command \n",
    "    # Add subplot for each pie chart\n",
    "    ax2 = fig.add_subplot(242)\n",
    "    \n",
    "    temp2.plot(kind = 'pie', subplots=True,\n",
    "               legend=True, autopct='%1.1f%%', radius=1,labels=whichPo['Estimates'],colors = ['red', 'pink'])\n",
    "\n",
    "    # Use variables containing number of deaths and births and use .plot command \n",
    "    # Add subplot for each pie chart\n",
    "    ax3 = fig.add_subplot(243)\n",
    "    temp3.plot(kind = 'pie', subplots=True,\n",
    "               legend=True, autopct='%1.1f%%', radius=1,labels=whichPo['Estimates'],colors = ['red', 'pink'])\n",
    "\n",
    "    # Use variables containing number of deaths and births and use .plot command \n",
    "    # Add subplot for each pie chart\n",
    "    ax4 = fig.add_subplot(244)\n",
    "    temp4.plot(kind = 'pie', subplots=True,\n",
    "                legend=True, autopct='%1.1f%%', radius=1,labels=whichPo['Estimates'],colors = ['red', 'pink'])\n",
    "\n",
    "    # Use variables containing number of deaths and births and use .plot command \n",
    "    # Add subplot for each pie chart\n",
    "    ax5 = fig.add_subplot(245)\n",
    "    plt.title(\"Births and Deaths: 2018\",fontsize=25)\n",
    "\n",
    "    temp11.plot(kind = 'pie', subplots=True,\n",
    "               legend=True, autopct='%1.1f%%', radius=1,labels=whichPo['Estimates'],colors = ['red', 'pink'])\n",
    "\n",
    "    # Use variables containing number of deaths and births and use .plot command \n",
    "    # Add subplot for each pie chart\n",
    "    ax6 = fig.add_subplot(246)\n",
    "    temp21.plot(kind = 'pie', subplots=True,\n",
    "               legend=True, autopct='%1.1f%%', radius=1,labels=whichPo['Estimates'],colors = ['red', 'pink'])\n",
    "\n",
    "    # Use variables containing number of deaths and births and use .plot command \n",
    "    # Add subplot for each pie chart\n",
    "    ax7 = fig.add_subplot(247)\n",
    "    temp31.plot(kind = 'pie', subplots=True,\n",
    "               legend=True, autopct='%1.1f%%', radius=1,labels=whichPo['Estimates'],colors = ['red', 'pink'])\n",
    "\n",
    "    # Use variables containing number of deaths and births and use .plot command \n",
    "    # Add subplot for each pie chart\n",
    "    ax8 = fig.add_subplot(248)\n",
    "    temp41.plot(kind = 'pie', subplots=True,\n",
    "                legend=True, autopct='%1.1f%%', radius=1,labels=whichPo['Estimates'],colors = ['red', 'pink'])\n",
    "\n",
    "    plt.show()"
   ]
  },
  {
   "cell_type": "markdown",
   "metadata": {
    "hidden": false
   },
   "source": [
    "<h2 align='center'>References</h2>\n",
    "\n",
    "Statistics Canada.  Table  17-10-0059-01   Estimates of the components of natural increase, quarterly\n"
   ]
  },
  {
   "cell_type": "markdown",
   "metadata": {
    "hidden": false
   },
   "source": [
    "# ![alt text](https://github.com/callysto/callysto-sample-notebooks/blob/master/notebooks/images/Callysto_Notebook-Banners_Bottom_06.06.18.jpg?raw=true)"
   ]
  }
 ],
 "metadata": {
  "kernelspec": {
   "display_name": "Python 3",
   "language": "python",
   "name": "python3"
  },
  "language_info": {
   "codemirror_mode": {
    "name": "ipython",
    "version": 3
   },
   "file_extension": ".py",
   "mimetype": "text/x-python",
   "name": "python",
   "nbconvert_exporter": "python",
   "pygments_lexer": "ipython3",
   "version": "3.7.1"
  }
 },
 "nbformat": 4,
 "nbformat_minor": 2
}
